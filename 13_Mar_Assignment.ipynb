{
 "cells": [
  {
   "cell_type": "markdown",
   "metadata": {},
   "source": [
    "Q1. Explain the assumptions required to use ANOVA and provide examples of violations that could impact\n",
    "the validity of the results."
   ]
  },
  {
   "cell_type": "markdown",
   "metadata": {},
   "source": [
    "Assumptions of ANOVA:\n",
    "\n",
    "   1. Normality: The data within each group should be normally distributed.\n",
    "\n",
    "   2. Homogeneity of variance: The variance of the data within each group should be equal.\n",
    "\n",
    "   3. Independence: The observations should be independent of each other.\n",
    "   \n",
    "Examples of Violations:\n",
    "\n",
    "    Non-normality: If the assumption of normality is not met, the ANOVA results may not be accurate. For example, if the data is heavily skewed or has outliers, the assumption of normality is likely to be violated.\n",
    "\n",
    "    Heteroscedasticity: If the assumption of homogeneity of variance is not met, the ANOVA results may not be reliable. For example, if the variance in one group is much larger than the variance in another group, the assumption of homogeneity of variance is likely to be violated.\n",
    "\n",
    "    Non-independence: If the observations are not independent of each other, the ANOVA results may not be accurate. For example, if the same subjects are used in multiple groups, the assumption of independence is likely to be violated.\n",
    "\n",
    "    Outliers: Outliers can distort the normal distribution of data making it difficult to meet the assumption of normality.\n",
    "\n",
    "    Missing Data: If there is a significant amount of missing data, it can affect the accuracy of the ANOVA results.\n",
    "\n",
    "    Violation of normality and homogeneity of variance: If the data is not normally distributed and the variance is not equal across groups, the results of the ANOVA test may be inaccurate. In such cases, a non-parametric test such as Kruskal-Wallis or Mann-Whitney U-test could be used instead."
   ]
  },
  {
   "cell_type": "markdown",
   "metadata": {},
   "source": [
    "Q2. What are the three types of ANOVA, and in what situations would each be used?"
   ]
  },
  {
   "cell_type": "markdown",
   "metadata": {},
   "source": [
    "The three types of ANOVA are:\n",
    "\n",
    "    One-way ANOVA: This type of ANOVA is used when there is only one factor being tested, and it has three or more levels. For example, a one-way ANOVA could be used to test whether there is a difference in average test scores between students in three different schools.\n",
    "\n",
    "    Two-way ANOVA: This type of ANOVA is used when there are two factors being tested, and each factor has two or more levels. For example, a two-way ANOVA could be used to test whether there is a difference in average test scores between male and female students in three different schools.\n",
    "\n",
    "    N-way ANOVA: This type of ANOVA is used when there are three or more factors being tested, and each factor has two or more levels. For example, an N-way ANOVA could be used to test whether there is a difference in average test scores between male and female students in three different schools, with different teachers, using different textbooks, and at different times of day."
   ]
  },
  {
   "cell_type": "markdown",
   "metadata": {},
   "source": [
    "Q3. What is the partitioning of variance in ANOVA, and why is it important to understand this concept?"
   ]
  },
  {
   "cell_type": "markdown",
   "metadata": {},
   "source": [
    "The partitioning of variance in ANOVA refers to the process of breaking down the total variability in a dataset into separate sources of variability based on the factors being studied. In ANOVA, the total variation in a response variable is partitioned into two components: the variation between the groups being compared (known as the \"between-group\" variation) and the variation within each group (known as the \"within-group\" variation). \n",
    "\n",
    "The partitioning of variance is important because it allows researchers to determine the relative contributions of different sources of variation to the total variation in the response variable. This information can be used to test hypotheses about the differences between group means and to estimate effect sizes. Additionally, understanding the partitioning of variance can help researchers identify potential confounding variables that may need to be controlled for in their analyses.\n"
   ]
  },
  {
   "cell_type": "markdown",
   "metadata": {},
   "source": [
    "Q4. How would you calculate the total sum of squares (SST), explained sum of squares (SSE), and residual\n",
    "sum of squares (SSR) in a one-way ANOVA using Python?"
   ]
  },
  {
   "cell_type": "code",
   "execution_count": 3,
   "metadata": {},
   "outputs": [
    {
     "name": "stdout",
     "output_type": "stream",
     "text": [
      "SST = 20.0\n",
      "SSE = 1.9999999999999964\n",
      "SSR = 2.800000000000002\n"
     ]
    }
   ],
   "source": [
    "import pandas as pd\n",
    "import statsmodels.api as sm\n",
    "from statsmodels.formula.api import ols\n",
    "\n",
    "# Create a data frame with the data\n",
    "data = pd.DataFrame({'group': ['A', 'A', 'A', 'B', 'B', 'B', 'C', 'C', 'C'],\n",
    "                     'score': [7, 8, 6, 5, 4, 6, 8, 9, 7]})\n",
    "\n",
    "# Fit the ANOVA model\n",
    "model = ols('score ~ group', data=data).fit()\n",
    "\n",
    "# Calculate the total sum of squares (SST)\n",
    "ss_tot = sum((data['score'] - data['score'].mean())**2)\n",
    "\n",
    "# Calculate the explained sum of squares (SSE)\n",
    "ssr = sum((model.fittedvalues - data['score'].mean())**2)\n",
    "ssr_corr = ssr / (len(data['score'].unique()) - 1)\n",
    "\n",
    "# Calculate the residual sum of squares (SSR)\n",
    "sse = ss_tot - ssr\n",
    "sse_corr = sse / (len(data['score']) - len(data['score'].unique()))\n",
    "\n",
    "print('SST =', ss_tot)\n",
    "print('SSE =', sse_corr)\n",
    "print('SSR =', ssr_corr)\n"
   ]
  },
  {
   "cell_type": "markdown",
   "metadata": {},
   "source": [
    "Q5. In a two-way ANOVA, how would you calculate the main effects and interaction effects using Python?"
   ]
  },
  {
   "cell_type": "code",
   "execution_count": 6,
   "metadata": {},
   "outputs": [],
   "source": [
    "import pandas as pd\n",
    "import statsmodels.api as sm\n",
    "from statsmodels.formula.api import ols\n",
    "\n",
    "# Load data into a Pandas dataframe\n",
    "data = pd.read_csv('data.csv')\n",
    "\n",
    "# Create a two-way ANOVA model\n",
    "model = ols('dependent_variable ~ factor1 + factor2 + factor1:factor2', data).fit()\n",
    "\n",
    "# Calculate the main effects and interaction effect\n",
    "main_effects = sm.stats.anova_lm(model, typ=1)\n",
    "interaction_effect = sm.stats.anova_lm(model, typ=2)\n",
    "\n",
    "print(main_effects)\n",
    "print(interaction_effect)\n"
   ]
  },
  {
   "cell_type": "markdown",
   "metadata": {},
   "source": [
    "Q6. Suppose you conducted a one-way ANOVA and obtained an F-statistic of 5.23 and a p-value of 0.02.\n",
    "What can you conclude about the differences between the groups, and how would you interpret these\n",
    "results?"
   ]
  },
  {
   "cell_type": "markdown",
   "metadata": {},
   "source": [
    "A one-way ANOVA with an F-statistic of 5.23 and a p-value of 0.02 indicates that there is a statistically significant difference between the groups. \n",
    "\n",
    "Specifically, there is evidence that at least one of the group means is different from the others."
   ]
  },
  {
   "cell_type": "markdown",
   "metadata": {},
   "source": [
    "Q7. In a repeated measures ANOVA, how would you handle missing data, and what are the potential\n",
    "consequences of using different methods to handle missing data?"
   ]
  },
  {
   "cell_type": "markdown",
   "metadata": {},
   "source": [
    "Handling missing data in repeated measures ANOVA can be challenging because the measurements are taken on the same subjects over time, and missing data in one time point can affect subsequent measurements. \n",
    "There are different methods to handle missing data in repeated measures ANOVA, including \n",
    "pairwise deletion, \n",
    "listwise deletion, and \n",
    "imputation."
   ]
  },
  {
   "cell_type": "markdown",
   "metadata": {},
   "source": [
    "Q8. What are some common post-hoc tests used after ANOVA, and when would you use each one? Provide\n",
    "an example of a situation where a post-hoc test might be necessary."
   ]
  },
  {
   "cell_type": "markdown",
   "metadata": {},
   "source": [
    "After conducting an ANOVA, post-hoc tests can be used to determine which specific groups are significantly different from each other. Some common post-hoc tests include Tukey's Honestly Significant Difference (HSD), Scheffe's test, Bonferroni correction, and Fisher's Least Significant Difference (LSD).\n",
    "\n",
    "Tukey's HSD is a commonly used post-hoc test when the sample sizes are equal, and it controls the family-wise error rate (FWER). It is recommended when there are many groups and the primary goal is to compare all possible pairs of groups.\n",
    "\n",
    "Scheffe's test is a more conservative post-hoc test that is useful when the sample sizes are unequal or the assumptions of equal variances and normality are violated.\n",
    "\n",
    "Bonferroni correction is a method that adjusts the significance level of each pairwise comparison to control for multiple comparisons. It is a very conservative approach that reduces the likelihood of type I errors but increases the likelihood of type II errors.\n",
    "\n",
    "Fisher's LSD is a less conservative post-hoc test that can be used when the sample sizes are equal and the variances are approximately equal.\n",
    "\n",
    "An example situation where a post-hoc test might be necessary is when a one-way ANOVA shows that there is a significant difference between groups but does not identify which specific groups are different from each other. In this case, a post-hoc test can be used to determine which groups are significantly different from each other."
   ]
  },
  {
   "cell_type": "markdown",
   "metadata": {},
   "source": [
    "Q9. A researcher wants to compare the mean weight loss of three diets: A, B, and C. They collect data from\n",
    "50 participants who were randomly assigned to one of the diets. Conduct a one-way ANOVA using Python\n",
    "to determine if there are any significant differences between the mean weight loss of the three diets.\n",
    "Report the F-statistic and p-value, and interpret the results."
   ]
  },
  {
   "cell_type": "code",
   "execution_count": 8,
   "metadata": {},
   "outputs": [
    {
     "name": "stdout",
     "output_type": "stream",
     "text": [
      "F-statistic: 37.03885406173804\n",
      "p-value: 9.413909285242866e-14\n",
      "The mean weight loss of the three diets is significantly different.\n"
     ]
    }
   ],
   "source": [
    "import numpy as np\n",
    "import pandas as pd\n",
    "from scipy.stats import f_oneway\n",
    "\n",
    "# generate data\n",
    "np.random.seed(123)  # for reproducibility\n",
    "diet_a = np.random.normal(loc=10, scale=2, size=50)\n",
    "diet_b = np.random.normal(loc=8, scale=2, size=50)\n",
    "diet_c = np.random.normal(loc=6, scale=2, size=50)\n",
    "\n",
    "# combine data into a single DataFrame\n",
    "data = pd.DataFrame({\n",
    "    'weight_loss': np.concatenate([diet_a, diet_b, diet_c]),\n",
    "    'diet': ['A'] * 50 + ['B'] * 50 + ['C'] * 50\n",
    "})\n",
    "\n",
    "data_A=data[data['diet'] == 'A']['weight_loss']\n",
    "data_B=data[data['diet'] == 'B']['weight_loss']\n",
    "data_C=data[data['diet'] == 'C']['weight_loss']\n",
    "\n",
    "# conduct one-way ANOVA\n",
    "f_statistic, p_value = f_oneway(data_A,data_B,data_C)\n",
    "# print results\n",
    "print('F-statistic:', f_statistic)\n",
    "print('p-value:', p_value)\n",
    "if p_value < 0.05:\n",
    "    print('The mean weight loss of the three diets is significantly different.')\n",
    "else:\n",
    "    print('There is no significant difference in the mean weight loss of the three diets.')\n"
   ]
  },
  {
   "cell_type": "markdown",
   "metadata": {},
   "source": [
    "Q10. A company wants to know if there are any significant differences in the average time it takes to\n",
    "complete a task using three different software programs: Program A, Program B, and Program C. They\n",
    "randomly assign 30 employees to one of the programs and record the time it takes each employee to\n",
    "complete the task. Conduct a two-way ANOVA using Python to determine if there are any main effects or\n",
    "interaction effects between the software programs and employee experience level (novice vs.\n",
    "experienced). Report the F-statistics and p-values, and interpret the results."
   ]
  },
  {
   "cell_type": "code",
   "execution_count": 1,
   "metadata": {},
   "outputs": [
    {
     "name": "stdout",
     "output_type": "stream",
     "text": [
      "                                sum_sq    df         F    PR(>F)\n",
      "C(software)                  18.292844   2.0  0.264784  0.768009\n",
      "C(experience)                19.341996   1.0  0.559941  0.456374\n",
      "C(software):C(experience)    20.839120   2.0  0.301641  0.740401\n",
      "Residual                   2901.603591  84.0       NaN       NaN\n"
     ]
    }
   ],
   "source": [
    "import pandas as pd\n",
    "import numpy as np\n",
    "import statsmodels.api as sm\n",
    "from scipy.special import factorial\n",
    "from statsmodels.formula.api import ols\n",
    "\n",
    "# generate random data\n",
    "np.random.seed(123)\n",
    "data = pd.DataFrame({\n",
    "    'software': np.repeat(['A', 'B', 'C'], 30),\n",
    "    'experience': np.tile(['novice', 'experienced'], 45),\n",
    "    'time': np.random.normal(loc=20, scale=5, size=90)\n",
    "})\n",
    "\n",
    "# fit the two-way ANOVA model\n",
    "model = ols('time ~ C(software) + C(experience) + C(software):C(experience)', data=data).fit()\n",
    "table = sm.stats.anova_lm(model, typ=2)\n",
    "\n",
    "# print the ANOVA table\n",
    "print(table)"
   ]
  },
  {
   "cell_type": "markdown",
   "metadata": {},
   "source": [
    "Q11. An educational researcher is interested in whether a new teaching method improves student test\n",
    "scores. They randomly assign 100 students to either the control group (traditional teaching method) or the\n",
    "experimental group (new teaching method) and administer a test at the end of the semester. Conduct a\n",
    "two-sample t-test using Python to determine if there are any significant differences in test scores\n",
    "between the two groups. If the results are significant, follow up with a post-hoc test to determine which\n",
    "group(s) differ significantly from each other."
   ]
  },
  {
   "cell_type": "code",
   "execution_count": 8,
   "metadata": {},
   "outputs": [
    {
     "name": "stdout",
     "output_type": "stream",
     "text": [
      "T-statistic: -3.6742346141747677\n",
      "P-value: 0.021311641128756713\n",
      "   Multiple Comparison of Means - Tukey HSD, FWER=0.05    \n",
      "==========================================================\n",
      " group1    group2    meandiff p-adj  lower   upper  reject\n",
      "----------------------------------------------------------\n",
      "Control Experimental     15.0 0.0213 3.6652 26.3348   True\n",
      "----------------------------------------------------------\n"
     ]
    }
   ],
   "source": [
    "import pandas as pd\n",
    "from scipy import stats\n",
    "from statsmodels.stats.multicomp import pairwise_tukeyhsd\n",
    "\n",
    "# Load data into a Pandas dataframe\n",
    "data = pd.DataFrame({\n",
    "    'Group': ['Control', 'Experimental', 'Control', 'Experimental', 'Control', 'Experimental'],\n",
    "    'Score': [75, 80, 65, 90, 70, 85]\n",
    "})\n",
    "\n",
    "# Separate the scores into two groups\n",
    "control_scores = data[data['Group'] == 'Control']['Score']\n",
    "experimental_scores = data[data['Group'] == 'Experimental']['Score']\n",
    "\n",
    "# Conduct a two-sample t-test\n",
    "t_statistic, p_value = stats.ttest_ind(control_scores, experimental_scores)\n",
    "\n",
    "# Print the results\n",
    "print(\"T-statistic:\", t_statistic)\n",
    "print(\"P-value:\", p_value)\n",
    "\n",
    "# Conduct a post-hoc test if the result is significant\n",
    "if p_value < 0.05:\n",
    "    posthoc = pairwise_tukeyhsd(data['Score'], data['Group'])\n",
    "    print(posthoc)\n"
   ]
  },
  {
   "cell_type": "markdown",
   "metadata": {},
   "source": [
    "Q12. A researcher wants to know if there are any significant differences in the average daily sales of three\n",
    "retail stores: Store A, Store B, and Store C. They randomly select 30 days and record the sales for each store\n",
    "on those days. Conduct a repeated measures ANOVA using Python to determine if there are any\n",
    "significant differences in sales between the three stores. If the results are significant, follow up with a post-\n",
    "hoc test to determine which store(s) differ significantly from each other."
   ]
  },
  {
   "cell_type": "code",
   "execution_count": 9,
   "metadata": {},
   "outputs": [
    {
     "name": "stdout",
     "output_type": "stream",
     "text": [
      "               Anova\n",
      "===================================\n",
      "      F Value Num DF  Den DF Pr > F\n",
      "-----------------------------------\n",
      "store  7.8521 2.0000 58.0000 0.0010\n",
      "===================================\n",
      "\n"
     ]
    }
   ],
   "source": [
    "import pandas as pd\n",
    "import numpy as np\n",
    "import statsmodels.api as sm\n",
    "from statsmodels.stats.anova import AnovaRM\n",
    "\n",
    "# Generate example data\n",
    "np.random.seed(123)\n",
    "store_a = np.random.normal(loc=100, scale=20, size=30)\n",
    "store_b = np.random.normal(loc=110, scale=15, size=30)\n",
    "store_c = np.random.normal(loc=90, scale=25, size=30)\n",
    "sales_data = pd.DataFrame({'store_a': store_a, 'store_b': store_b, 'store_c': store_c})\n",
    "\n",
    "# Convert data to long format\n",
    "sales_data = pd.melt(sales_data.reset_index(), id_vars=['index'], value_vars=['store_a', 'store_b', 'store_c'])\n",
    "sales_data.columns = ['day', 'store', 'sales']\n",
    "\n",
    "# Conduct repeated measures ANOVA\n",
    "rm_anova = AnovaRM(data=sales_data, depvar='sales', subject='day', within=['store'])\n",
    "rm_results = rm_anova.fit()\n",
    "\n",
    "print(rm_results)\n"
   ]
  },
  {
   "cell_type": "code",
   "execution_count": null,
   "metadata": {},
   "outputs": [],
   "source": []
  }
 ],
 "metadata": {
  "kernelspec": {
   "display_name": "Python 3",
   "language": "python",
   "name": "python3"
  },
  "language_info": {
   "codemirror_mode": {
    "name": "ipython",
    "version": 3
   },
   "file_extension": ".py",
   "mimetype": "text/x-python",
   "name": "python",
   "nbconvert_exporter": "python",
   "pygments_lexer": "ipython3",
   "version": "3.6.5"
  }
 },
 "nbformat": 4,
 "nbformat_minor": 2
}
